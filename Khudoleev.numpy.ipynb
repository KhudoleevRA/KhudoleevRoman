{
 "cells": [
  {
   "cell_type": "code",
   "execution_count": 1,
   "metadata": {},
   "outputs": [],
   "source": [
    "import numpy as np"
   ]
  },
  {
   "cell_type": "markdown",
   "metadata": {},
   "source": [
    "Задание 1."
   ]
  },
  {
   "cell_type": "code",
   "execution_count": 9,
   "metadata": {},
   "outputs": [
    {
     "name": "stdout",
     "output_type": "stream",
     "text": [
      "[[0.00186665 0.85130101 0.79976378]\n",
      " [0.45429175 0.04784478 0.45598514]\n",
      " [0.94126488 0.25267435 0.99340521]\n",
      " [0.0940556  0.12553653 0.97376388]\n",
      " [0.47034206 0.04647732 0.78232689]\n",
      " [0.02196244 0.4106656  0.36611098]\n",
      " [0.34493707 0.05640831 0.01660785]\n",
      " [0.2823913  0.82339361 0.71470721]\n",
      " [0.40655393 0.57725984 0.56043832]\n",
      " [0.92986275 0.78278345 0.24783687]]\n",
      "[0.00186665 0.45429175 0.94126488 0.12553653 0.04647732 0.4106656\n",
      " 0.34493707 0.2823913  0.56043832 0.24783687]\n"
     ]
    }
   ],
   "source": [
    "m = np.random.rand(10,3)\n",
    "print(m)\n",
    "print(m.reshape(1,30)[0,abs(a-0.5).argmin(axis = 1) + np.arange(10)*3])"
   ]
  },
  {
   "cell_type": "markdown",
   "metadata": {},
   "source": [
    "Задание 2."
   ]
  },
  {
   "cell_type": "code",
   "execution_count": 11,
   "metadata": {},
   "outputs": [
    {
     "data": {
      "text/plain": [
       "array([12.56027328, 39.84077746, 46.21091076, 28.6741331 , 86.59097233,\n",
       "       10.73241647])"
      ]
     },
     "execution_count": 11,
     "metadata": {},
     "output_type": "execute_result"
    }
   ],
   "source": [
    "a = np.random.rand(6,6)\n",
    "a.sum(axis = 0)/a.min(axis = 1)"
   ]
  },
  {
   "cell_type": "markdown",
   "metadata": {},
   "source": [
    "Задание 3."
   ]
  },
  {
   "cell_type": "code",
   "execution_count": 14,
   "metadata": {},
   "outputs": [
    {
     "data": {
      "text/plain": [
       "7"
      ]
     },
     "execution_count": 14,
     "metadata": {},
     "output_type": "execute_result"
    }
   ],
   "source": [
    "x = np.array([6, 2, 0, 3, 0, 0, 5, 7, 0])\n",
    "x[(x == 0)[np.concatenate(((np.arange(8)+1), [False]))]].max()"
   ]
  },
  {
   "cell_type": "markdown",
   "metadata": {},
   "source": [
    "Задание 4."
   ]
  },
  {
   "cell_type": "code",
   "execution_count": 20,
   "metadata": {},
   "outputs": [
    {
     "data": {
      "text/plain": [
       "array([2., 2., 2., 2., 1., 4., 1., 1., 2., 1.])"
      ]
     },
     "execution_count": 20,
     "metadata": {},
     "output_type": "execute_result"
    }
   ],
   "source": [
    "x = np.ones(10)\n",
    "i = np.array([0, 1, 2, 3, 5, 5, 5, 8])\n",
    "z = np.zeros(80)\n",
    "z[i + np.arange(8)*10] = 1\n",
    "x + z.reshape(8,10).sum(axis = 0)"
   ]
  },
  {
   "cell_type": "markdown",
   "metadata": {},
   "source": [
    "Задание 5."
   ]
  },
  {
   "cell_type": "code",
   "execution_count": 21,
   "metadata": {},
   "outputs": [
    {
     "data": {
      "text/plain": [
       "{0: array([0]),\n",
       " 1: array([1, 4]),\n",
       " 2: array([2, 5, 8]),\n",
       " 3: array([ 3,  6,  9, 12]),\n",
       " 4: array([ 7, 10, 13]),\n",
       " 5: array([11, 14]),\n",
       " 6: array([15])}"
      ]
     },
     "execution_count": 21,
     "metadata": {},
     "output_type": "execute_result"
    }
   ],
   "source": [
    "a = np.arange(16).reshape(4, 4)\n",
    "row, col = np.indices((4,4))\n",
    "dictionary = {i: a[row + col == i] for i in range (7)}\n",
    "dictionary"
   ]
  },
  {
   "cell_type": "markdown",
   "metadata": {},
   "source": [
    "Задание 6."
   ]
  },
  {
   "cell_type": "code",
   "execution_count": 26,
   "metadata": {},
   "outputs": [
    {
     "data": {
      "text/plain": [
       "(array([[ 5.39810931,  5.90202355],\n",
       "        [10.23502976,  9.85151526],\n",
       "        [ 3.3656022 ,  5.34099194]]), 4.718843917873826)"
      ]
     },
     "execution_count": 26,
     "metadata": {},
     "output_type": "execute_result"
    }
   ],
   "source": [
    "def get_labels(X, centroids):\n",
    "    return np.argmin(np.linalg.norm(X - centroids[:, None], axis = 2), axis = 0)\n",
    "def algorithm(obs,k, iter, thresh):\n",
    "    \n",
    "    centroids = X[0:k]\n",
    "    l=0\n",
    "    labels = get_labels(X,centroids)\n",
    "    distortion = 1\n",
    "    memory = distortion + 1\n",
    "    while ((np.linalg.norm(memory - distortion))>thresh):\n",
    "        l += 1\n",
    "        memory = distortion\n",
    "        if(l == iter):break\n",
    "        labels = get_labels(X,centroids)\n",
    "        for i in range(k):\n",
    "            mask = labels == i\n",
    "            centroids[i] = np.mean(X[mask],axis = 0)\n",
    "        distortion = np.sum(np.linalg.norm(obs - centroids[labels], axis = 0))\n",
    "    \n",
    "    return centroids, distortion\n",
    "centroid = np.array([[5, 5], [10, 10]])\n",
    "\n",
    "X = np.repeat(centroid, 5, axis = 0)\n",
    "X = X + np.random.randn(*X.shape)\n",
    "algorithm(X,3,30,1e-12)"
   ]
  },
  {
   "cell_type": "code",
   "execution_count": null,
   "metadata": {},
   "outputs": [],
   "source": []
  }
 ],
 "metadata": {
  "kernelspec": {
   "display_name": "Python 3",
   "language": "python",
   "name": "python3"
  },
  "language_info": {
   "codemirror_mode": {
    "name": "ipython",
    "version": 3
   },
   "file_extension": ".py",
   "mimetype": "text/x-python",
   "name": "python",
   "nbconvert_exporter": "python",
   "pygments_lexer": "ipython3",
   "version": "3.6.5"
  }
 },
 "nbformat": 4,
 "nbformat_minor": 2
}
