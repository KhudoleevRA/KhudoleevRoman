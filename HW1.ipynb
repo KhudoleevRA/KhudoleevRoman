{
 "cells": [
  {
   "cell_type": "markdown",
   "metadata": {},
   "source": [
    "Задача номер 28  "
   ]
  },
  {
   "cell_type": "code",
   "execution_count": 3,
   "metadata": {},
   "outputs": [
    {
     "data": {
      "text/plain": [
       "17"
      ]
     },
     "execution_count": 3,
     "metadata": {},
     "output_type": "execute_result"
    }
   ],
   "source": [
    "def Maxxx (a, b, c):\n",
    "    Maxxx = 0\n",
    "    if a - b > 0:\n",
    "        if a - c > 0:\n",
    "            Maxxx = a \n",
    "        if c - a > 0:\n",
    "            Maxxx = c\n",
    "        if c == a: \n",
    "            Maxxx = a\n",
    "    if b - a > 0:\n",
    "        if b - c > 0:\n",
    "            Maxxx = b\n",
    "        if c - b > 0:\n",
    "            Maxxx = c\n",
    "        if c == b:\n",
    "            Maxxx = c\n",
    "    if b == c:\n",
    "        if a - b > 0:\n",
    "            Maxxx = a\n",
    "        if b - a > 0:\n",
    "            Maxxx = b\n",
    "        if b == a:\n",
    "            Maxxx = b\n",
    "    if a == b:\n",
    "        if c - b > 0:\n",
    "            Maxxx = c\n",
    "        if b - c > 0:\n",
    "            Maxxx = b\n",
    "    return Maxxx\n",
    "\n",
    "Maxxx(17, 2, 2)"
   ]
  },
  {
   "cell_type": "markdown",
   "metadata": {},
   "source": [
    "Задача номер 7"
   ]
  },
  {
   "cell_type": "code",
   "execution_count": null,
   "metadata": {},
   "outputs": [],
   "source": [
    "def Delit(num):\n",
    "    T = range(1, num+1)\n",
    "    delit = []\n",
    "    i = 0\n",
    "    for elem in T:\n",
    "        if num % elem == 0:\n",
    "            delit.append(elem)\n",
    "            i = i + 1\n",
    "    print(delit)\n",
    "    return(i)\n",
    "\n",
    "Delit(10)"
   ]
  },
  {
   "cell_type": "markdown",
   "metadata": {},
   "source": [
    "Задача номер 9"
   ]
  },
  {
   "cell_type": "code",
   "execution_count": null,
   "metadata": {},
   "outputs": [],
   "source": [
    "import random\n",
    "a = random.randint(1, 9)\n",
    "while 1:\n",
    "    b = int(input(\"Give you number: \"))\n",
    "    if b == a:\n",
    "        print(\"You Win\")\n",
    "        break\n",
    "    elif b > a:\n",
    "        print(\"Ваше число больше требуемого, введите число меньше\")\n",
    "        continue\n",
    "    else :\n",
    "        print(\"Ваше число меньше требуемого, введите число больше\")\n",
    "        continue\n"
   ]
  },
  {
   "cell_type": "markdown",
   "metadata": {},
   "source": [
    "Задача номер 4"
   ]
  },
  {
   "cell_type": "code",
   "execution_count": 1,
   "metadata": {},
   "outputs": [
    {
     "name": "stdout",
     "output_type": "stream",
     "text": [
      "Give len password:  sdsdg\n"
     ]
    },
    {
     "ename": "ValueError",
     "evalue": "invalid literal for int() with base 10: 'sdsdg'",
     "output_type": "error",
     "traceback": [
      "\u001b[0;31m---------------------------------------------------------------------------\u001b[0m",
      "\u001b[0;31mValueError\u001b[0m                                Traceback (most recent call last)",
      "\u001b[0;32m<ipython-input-1-c9f4665df87e>\u001b[0m in \u001b[0;36m<module>\u001b[0;34m\u001b[0m\n\u001b[1;32m      1\u001b[0m \u001b[0;32mimport\u001b[0m \u001b[0mrandom\u001b[0m\u001b[0;34m\u001b[0m\u001b[0;34m\u001b[0m\u001b[0m\n\u001b[0;32m----> 2\u001b[0;31m \u001b[0mlen\u001b[0m \u001b[0;34m=\u001b[0m \u001b[0mint\u001b[0m\u001b[0;34m(\u001b[0m\u001b[0minput\u001b[0m\u001b[0;34m(\u001b[0m\u001b[0;34m\"Give len password:  \"\u001b[0m\u001b[0;34m)\u001b[0m\u001b[0;34m)\u001b[0m\u001b[0;34m\u001b[0m\u001b[0;34m\u001b[0m\u001b[0m\n\u001b[0m\u001b[1;32m      3\u001b[0m \u001b[0mprint\u001b[0m\u001b[0;34m(\u001b[0m\u001b[0;34m\"repeat characters..simple password - priss 1\"\u001b[0m\u001b[0;34m)\u001b[0m\u001b[0;34m\u001b[0m\u001b[0;34m\u001b[0m\u001b[0m\n\u001b[1;32m      4\u001b[0m \u001b[0mprint\u001b[0m\u001b[0;34m(\u001b[0m\u001b[0;34m\"no repeat..hard password - press 2\"\u001b[0m\u001b[0;34m)\u001b[0m\u001b[0;34m\u001b[0m\u001b[0;34m\u001b[0m\u001b[0m\n\u001b[1;32m      5\u001b[0m \u001b[0mk\u001b[0m \u001b[0;34m=\u001b[0m \u001b[0mint\u001b[0m\u001b[0;34m(\u001b[0m\u001b[0minput\u001b[0m\u001b[0;34m(\u001b[0m\u001b[0;34m)\u001b[0m\u001b[0;34m)\u001b[0m\u001b[0;34m\u001b[0m\u001b[0;34m\u001b[0m\u001b[0m\n",
      "\u001b[0;31mValueError\u001b[0m: invalid literal for int() with base 10: 'sdsdg'"
     ]
    }
   ],
   "source": [
    "import random\n",
    "len = int(input(\"Give len password:  \"))\n",
    "print(\"repeat characters..simple password - priss 1\")\n",
    "print(\"no repeat..hard password - press 2\")\n",
    "k = int(input())\n",
    "s = \"qwertyuiopasdfghjklzxcvbnmQAZWSXEDCRFVTGBYHNUJMIKOLP1234567890\"\n",
    "a = \"aAbB123\"\n",
    "if k == 1:\n",
    "    p =  \"\" .join (random.sample (a, len))\n",
    "    print (p)\n",
    "elif k == 2:\n",
    "    p =  \"\" .join (random.sample (s, len))\n",
    "    print (p)\n",
    "else:\n",
    "    print(\"неверный параметр\")\n"
   ]
  },
  {
   "cell_type": "code",
   "execution_count": null,
   "metadata": {},
   "outputs": [],
   "source": []
  },
  {
   "cell_type": "code",
   "execution_count": 2,
   "metadata": {},
   "outputs": [
    {
     "data": {
      "text/plain": [
       "34"
      ]
     },
     "execution_count": 2,
     "metadata": {},
     "output_type": "execute_result"
    }
   ],
   "source": [
    "34\n"
   ]
  },
  {
   "cell_type": "code",
   "execution_count": null,
   "metadata": {},
   "outputs": [],
   "source": []
  }
 ],
 "metadata": {
  "kernelspec": {
   "display_name": "Python 3",
   "language": "python",
   "name": "python3"
  },
  "language_info": {
   "codemirror_mode": {
    "name": "ipython",
    "version": 3
   },
   "file_extension": ".py",
   "mimetype": "text/x-python",
   "name": "python",
   "nbconvert_exporter": "python",
   "pygments_lexer": "ipython3",
   "version": "3.7.1"
  }
 },
 "nbformat": 4,
 "nbformat_minor": 2
}
